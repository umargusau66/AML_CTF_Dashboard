import smtplib
from email.mime.multipart import MIMEMultipart
from email.mime.text import MIMEText
from email.mime.base import MIMEBase
from email import encoders
import os

# Email credentials
sender_email = 'your_email@example.com'
receiver_email = 'umargusau@gmail.com'
password = 'your_email_password'

# Create the email
msg = MIMEMultipart()
msg['From'] = sender_email
msg['To'] = receiver_email
msg['Subject'] = 'AML/CTF Dashboard Colab Notebook'

# Email body
body = 'Please find attached the Colab notebook for the AML/CTF Dashboard.'
msg.attach(MIMEText(body, 'plain'))

# Attach the file
filename = 'AML_CTF_Dashboard_Colab.ipynb'
filepath = '/path/to/AML_CTF_Dashboard_Colab.ipynb'
attachment = open(filepath, 'rb')

part = MIMEBase('application', 'octet-stream')
part.set_payload(attachment.read())
encoders.encode_base64(part)
part.add_header('Content-Disposition', f'attachment; filename={filename}')
msg.attach(part)

# Connect to the server and send the email
try:
    server = smtplib.SMTP('smtp.gmail.com', 587)
    server.starttls()
    server.login(sender_email, password)
    text = msg.as_string()
    server.sendmail(sender_email, receiver_email, text)
    print('Email sent successfully.')
except Exception as e:
    print(f'Failed to send email: {e}')
finally:
    server.quit()
